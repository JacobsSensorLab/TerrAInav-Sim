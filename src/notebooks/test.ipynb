{
 "cells": [
  {
   "cell_type": "code",
   "execution_count": 1,
   "metadata": {},
   "outputs": [
    {
     "name": "stderr",
     "output_type": "stream",
     "text": [
      "2025-01-06 15:16:35.959790: I tensorflow/core/platform/cpu_feature_guard.cc:193] This TensorFlow binary is optimized with oneAPI Deep Neural Network Library (oneDNN) to use the following CPU instructions in performance-critical operations:  AVX2 FMA\n",
      "To enable them in other operations, rebuild TensorFlow with the appropriate compiler flags.\n",
      "2025-01-06 15:16:36.886997: W tensorflow/compiler/xla/stream_executor/platform/default/dso_loader.cc:64] Could not load dynamic library 'libnvinfer.so.7'; dlerror: libnvinfer.so.7: cannot open shared object file: No such file or directory; LD_LIBRARY_PATH: /home/sdjkhosh/.local/lib/python3.10/site-packages/cv2/../../lib64:/usr/local/cuda/lib64:\n",
      "2025-01-06 15:16:36.887101: W tensorflow/compiler/xla/stream_executor/platform/default/dso_loader.cc:64] Could not load dynamic library 'libnvinfer_plugin.so.7'; dlerror: libnvinfer_plugin.so.7: cannot open shared object file: No such file or directory; LD_LIBRARY_PATH: /home/sdjkhosh/.local/lib/python3.10/site-packages/cv2/../../lib64:/usr/local/cuda/lib64:\n",
      "2025-01-06 15:16:36.887112: W tensorflow/compiler/tf2tensorrt/utils/py_utils.cc:38] TF-TRT Warning: Cannot dlopen some TensorRT libraries. If you would like to use Nvidia GPU with TensorRT, please make sure the missing libraries mentioned above are installed properly.\n"
     ]
    }
   ],
   "source": [
    "# @title Import Libraries\n",
    "import sys\n",
    "import glob, os\n",
    "import cv2\n",
    "import numpy as np\n",
    "import pandas as pd\n",
    "import geopy.distance\n",
    "from pathlib import Path\n",
    "import tensorflow as tf\n",
    "import matplotlib.pyplot as plt\n",
    "import seaborn as sns\n",
    "from skimage import exposure\n",
    "from skimage import feature\n",
    "import skimage.measure\n"
   ]
  },
  {
   "cell_type": "code",
   "execution_count": 2,
   "metadata": {},
   "outputs": [
    {
     "name": "stdout",
     "output_type": "stream",
     "text": [
      "/home/sdjkhosh/Projects/SkyAI-Sim\n"
     ]
    },
    {
     "name": "stderr",
     "output_type": "stream",
     "text": [
      "usage: SkyAI Sim Project [-h] [--coords COORDS] [--fov FOV]\n",
      "                         [--aspect_ratio ASPECT_RATIO [ASPECT_RATIO ...]]\n",
      "                         [--map_type {satellite,roadmap,terrain}]\n",
      "                         [--dataset {SkyAI,VBN}] [--data_dir DATA_DIR]\n",
      "                         [--vmargin VMARGIN]\n",
      "                         [--img_size IMG_SIZE [IMG_SIZE ...]]\n",
      "                         [--overlap OVERLAP] [--batch_size BATCH_SIZE]\n",
      "                         [--seed SEED]\n",
      "SkyAI Sim Project: error: argument --fov: invalid float value: '/home/sdjkhosh/.local/share/jupyter/runtime/kernel-v35c9640498875f1b2dcc99912146a2e630fc76d42.json'\n"
     ]
    }
   ],
   "source": [
    "# Setup paths and import local libraries\n",
    "%cd ../../\n",
    "\n",
    "prj_path = Path('SkyAI-Sim')\n",
    "sys.path.insert(0, str(prj_path))\n",
    "from src.utils import img_helper\n",
    "from src.utils.io_helper import str_to_floats\n",
    "from src.utils import consts\n",
    "from src.data.skyai import SkyAI\n"
   ]
  },
  {
   "cell_type": "code",
   "execution_count": 3,
   "metadata": {},
   "outputs": [],
   "source": [
    "\n",
    "args = consts.ARGS\n",
    "args.data_dir=\"/home/sdjkhosh/Datasets/Test/\"\n",
    "args.overlap: 0\n",
    "args.map_type: \"satellite\""
   ]
  },
  {
   "cell_type": "code",
   "execution_count": 4,
   "metadata": {},
   "outputs": [
    {
     "name": "stderr",
     "output_type": "stream",
     "text": [
      "2025-01-06 15:16:38.840235: E tensorflow/compiler/xla/stream_executor/cuda/cuda_driver.cc:267] failed call to cuInit: CUDA_ERROR_NO_DEVICE: no CUDA-capable device is detected\n",
      "2025-01-06 15:16:38.840292: I tensorflow/compiler/xla/stream_executor/cuda/cuda_diagnostics.cc:169] retrieving CUDA diagnostic information for host: c2-parisa\n",
      "2025-01-06 15:16:38.840307: I tensorflow/compiler/xla/stream_executor/cuda/cuda_diagnostics.cc:176] hostname: c2-parisa\n",
      "2025-01-06 15:16:38.840471: I tensorflow/compiler/xla/stream_executor/cuda/cuda_diagnostics.cc:200] libcuda reported version is: 510.54.0\n",
      "2025-01-06 15:16:38.840501: I tensorflow/compiler/xla/stream_executor/cuda/cuda_diagnostics.cc:204] kernel reported version is: 510.54.0\n",
      "2025-01-06 15:16:38.840509: I tensorflow/compiler/xla/stream_executor/cuda/cuda_diagnostics.cc:310] kernel version seems to match DSO: 510.54.0\n",
      "2025-01-06 15:16:38.841629: I tensorflow/core/platform/cpu_feature_guard.cc:193] This TensorFlow binary is optimized with oneAPI Deep Neural Network Library (oneDNN) to use the following CPU instructions in performance-critical operations:  AVX2 FMA\n",
      "To enable them in other operations, rebuild TensorFlow with the appropriate compiler flags.\n"
     ]
    },
    {
     "name": "stdout",
     "output_type": "stream",
     "text": [
      "Namespace(coords=[35.19, -89.94, 35.11, -89.8, 120.0], fov=78.8, aspect_ratio=[4, 3], map_type='roadmap', dataset='SkyAI', data_dir='/home/sdjkhosh/Datasets/Test/', vmargin=20, img_size=[400, 400, 3], overlap=0.6, batch_size=8, seed=2024)\n",
      "78.8 [35.19, -89.94, 35.11, -89.8, 120.0] 120.0 1.3333333333333333\n",
      "Checking folder:\n",
      "\tCreating Folder /home/sdjkhosh/Datasets/Test/roadmap_0.6\n",
      "\u001b[40m\n",
      "--------------------------------------------------------------\n",
      "\u001b[93m\n",
      "Data detailed values before download:\n",
      "\u001b[0m\u001b[40m\n",
      "--------------------------------------------------------------\u001b[0m\n",
      "namespace(args={'coords': [35.19, -89.94, 35.11, -89.8, 120.0],\n",
      "                'fov': 78.8,\n",
      "                'aspect_ratio': [4, 3],\n",
      "                'map_type': 'roadmap',\n",
      "                'dataset': 'SkyAI',\n",
      "                'data_dir': '/home/sdjkhosh/Datasets/Test/',\n",
      "                'vmargin': 20,\n",
      "                'img_size': [400, 400, 3],\n",
      "                'overlap': 0.6,\n",
      "                'batch_size': 8,\n",
      "                'seed': 2024,\n",
      "                'utm': 'EPSG:32616'},\n",
      "          filename='log_2025-01-06_15-16-38.txt',\n",
      "          top_left=namespace(lat=35.19,\n",
      "                             lon=-89.94,\n",
      "                             x_utm=232301.981,\n",
      "                             y_utm=3898073.766),\n",
      "          bottom_right=namespace(lat=35.11,\n",
      "                                 lon=-89.8,\n",
      "                                 x_utm=244803.112,\n",
      "                                 y_utm=3888829.856),\n",
      "          center=namespace(lat=35.15, lon=-89.87),\n",
      "          map_size=namespace(x_pixels=407,\n",
      "                             y_pixels=284,\n",
      "                             zoom=12,\n",
      "                             x_m=12501.131,\n",
      "                             y_m=9243.91,\n",
      "                             area_m2=115559329.862),\n",
      "          single_img_size=namespace(x_m=157.71,\n",
      "                                    y_m=118.28,\n",
      "                                    z_m=120.0,\n",
      "                                    area_m2=18653.939),\n",
      "          n_raster_imgs=namespace(x=198, y=195, total=38610),\n",
      "          map_url='https://mt.google.com/vt/lyrs=m&x=1025&y=1620&z=12')\n",
      "Checking folder:\n",
      "\tCreating Folder /home/sdjkhosh/Datasets/Test/roadmap_0.6/logs\n",
      "35.19_-89.94_35.11_-89.8_120.0_78.8_4_3.jpg\n"
     ]
    },
    {
     "ename": "AttributeError",
     "evalue": "'str' object has no attribute 'url'",
     "output_type": "error",
     "traceback": [
      "\u001b[0;31m---------------------------------------------------------------------------\u001b[0m",
      "\u001b[0;31mAttributeError\u001b[0m                            Traceback (most recent call last)",
      "Cell \u001b[0;32mIn[4], line 8\u001b[0m\n\u001b[1;32m      1\u001b[0m aerial_data \u001b[38;5;241m=\u001b[39m SkyAI(\n\u001b[1;32m      2\u001b[0m         args\u001b[38;5;241m=\u001b[39margs,\n\u001b[1;32m      3\u001b[0m         map_type\u001b[38;5;241m=\u001b[39m\u001b[38;5;124m'\u001b[39m\u001b[38;5;124mroadmap\u001b[39m\u001b[38;5;124m'\u001b[39m,\n\u001b[1;32m      4\u001b[0m         data_dir\u001b[38;5;241m=\u001b[39margs\u001b[38;5;241m.\u001b[39mdata_dir,\n\u001b[1;32m      5\u001b[0m         overlap\u001b[38;5;241m=\u001b[39margs\u001b[38;5;241m.\u001b[39moverlap\n\u001b[1;32m      6\u001b[0m         )\n\u001b[1;32m      7\u001b[0m \u001b[38;5;66;03m# aerial_data.config(download_raster=False)\u001b[39;00m\n\u001b[0;32m----> 8\u001b[0m \u001b[43maerial_data\u001b[49m\u001b[38;5;241;43m.\u001b[39;49m\u001b[43mcheck_data\u001b[49m\u001b[43m(\u001b[49m\u001b[43m)\u001b[49m\n",
      "File \u001b[0;32m~/Projects/SkyAI-Sim/src/data/skyai.py:208\u001b[0m, in \u001b[0;36mSkyAI.check_data\u001b[0;34m(self)\u001b[0m\n\u001b[1;32m    206\u001b[0m \u001b[38;5;28mprint\u001b[39m(map_name)\n\u001b[1;32m    207\u001b[0m \u001b[38;5;28;01mif\u001b[39;00m map_name \u001b[38;5;129;01mnot\u001b[39;00m \u001b[38;5;129;01min\u001b[39;00m os\u001b[38;5;241m.\u001b[39mlistdir(\u001b[38;5;28mself\u001b[39m\u001b[38;5;241m.\u001b[39mdata_dir):\n\u001b[0;32m--> 208\u001b[0m     \u001b[43mgeo_helper\u001b[49m\u001b[38;5;241;43m.\u001b[39;49m\u001b[43mget_map_image\u001b[49m\u001b[43m(\u001b[49m\n\u001b[1;32m    209\u001b[0m \u001b[43m        \u001b[49m\u001b[43mmap_response\u001b[49m\u001b[43m,\u001b[49m\n\u001b[1;32m    210\u001b[0m \u001b[43m        \u001b[49m\u001b[38;5;28;43mself\u001b[39;49m\u001b[38;5;241;43m.\u001b[39;49m\u001b[43mdata_dir\u001b[49m\u001b[43m \u001b[49m\u001b[38;5;241;43m/\u001b[39;49m\u001b[43m \u001b[49m\u001b[43mmap_name\u001b[49m\u001b[43m,\u001b[49m\n\u001b[1;32m    211\u001b[0m \u001b[43m        \u001b[49m\u001b[43m)\u001b[49m\n\u001b[1;32m    212\u001b[0m \u001b[38;5;28;01melse\u001b[39;00m:\n\u001b[1;32m    213\u001b[0m     pretty(\u001b[38;5;124m'\u001b[39m\u001b[38;5;124mMap image is available in\u001b[39m\u001b[38;5;124m'\u001b[39m, \u001b[38;5;28mself\u001b[39m\u001b[38;5;241m.\u001b[39mdata_dir, \u001b[38;5;124m'\u001b[39m\u001b[38;5;124mas\u001b[39m\u001b[38;5;124m'\u001b[39m, map_name,\n\u001b[1;32m    214\u001b[0m            log\u001b[38;5;241m=\u001b[39m\u001b[38;5;28mself\u001b[39m)\n",
      "File \u001b[0;32m~/Projects/SkyAI-Sim/src/utils/geo_helper.py:32\u001b[0m, in \u001b[0;36mget_map_image\u001b[0;34m(response, data_dir, retry)\u001b[0m\n\u001b[1;32m     21\u001b[0m \u001b[38;5;28;01mdef\u001b[39;00m \u001b[38;5;21mget_map_image\u001b[39m(response, data_dir: \u001b[38;5;28mstr\u001b[39m, retry: \u001b[38;5;28mint\u001b[39m\u001b[38;5;241m=\u001b[39m\u001b[38;5;241m10\u001b[39m\n\u001b[1;32m     22\u001b[0m     ):\n\u001b[1;32m     23\u001b[0m \u001b[38;5;250m    \u001b[39m\u001b[38;5;124;03m\"\"\"Get a static map image from Google Maps API given\u001b[39;00m\n\u001b[1;32m     24\u001b[0m \u001b[38;5;124;03m    latitude and longitude coordinates, map type, zoom level, size, and API key if available.\u001b[39;00m\n\u001b[1;32m     25\u001b[0m \u001b[38;5;124;03m    Parameters:\u001b[39;00m\n\u001b[0;32m   (...)\u001b[0m\n\u001b[1;32m     30\u001b[0m \u001b[38;5;124;03m        - Otherwise, specify the error and the URL for the error\u001b[39;00m\n\u001b[1;32m     31\u001b[0m \u001b[38;5;124;03m    \"\"\"\u001b[39;00m\n\u001b[0;32m---> 32\u001b[0m     final_url \u001b[38;5;241m=\u001b[39m \u001b[43mresponse\u001b[49m\u001b[38;5;241;43m.\u001b[39;49m\u001b[43murl\u001b[49m\n\u001b[1;32m     34\u001b[0m     \u001b[38;5;28;01mfor\u001b[39;00m i \u001b[38;5;129;01min\u001b[39;00m \u001b[38;5;28mrange\u001b[39m(retry):\n\u001b[1;32m     35\u001b[0m         \u001b[38;5;28;01mif\u001b[39;00m response\u001b[38;5;241m.\u001b[39mstatus_code \u001b[38;5;241m==\u001b[39m \u001b[38;5;241m200\u001b[39m:\n",
      "\u001b[0;31mAttributeError\u001b[0m: 'str' object has no attribute 'url'"
     ]
    }
   ],
   "source": [
    "aerial_data = SkyAI(\n",
    "        args=args,\n",
    "        map_type='roadmap',\n",
    "        data_dir=args.data_dir,\n",
    "        overlap=args.overlap\n",
    "        )\n",
    "# aerial_data.config(download_raster=False)\n",
    "aerial_data.check_data()"
   ]
  },
  {
   "cell_type": "code",
   "execution_count": null,
   "metadata": {},
   "outputs": [],
   "source": [
    "aerial_imgs_path = glob.glob(os.path.join(aerial_data.data_dir / 'images', \"*.jpg\"))\n",
    "aerial_imgs_path.sort()\n",
    "print(len(aerial_imgs_path))\n",
    "aerial_imgs, aerial_titles = img_helper.choose_random_images(nx*ny,\n",
    "                                                            aerial_imgs_path,\n",
    "                                                            output_dir=aerial_data.data_dir / 'random_sample',\n",
    "                                                            obj=aerial_data,\n",
    "                                                            seed=seed)"
   ]
  },
  {
   "cell_type": "code",
   "execution_count": null,
   "metadata": {},
   "outputs": [],
   "source": [
    "import skimage.measure\n",
    "entropys = [skimage.measure.shannon_entropy(img) for img in aerial_imgs]\n",
    "\n",
    "img_helper.plot_multy(aerial_imgs, aerial_data.data_dir /'entropies', nx, ny, entropys)"
   ]
  },
  {
   "cell_type": "code",
   "execution_count": null,
   "metadata": {},
   "outputs": [],
   "source": [
    "road_n = [cv2.normalize(img, None, alpha = 0, beta = 255,\n",
    "                       norm_type = cv2.NORM_MINMAX,\n",
    "                       dtype = cv2.CV_32F).astype('uint8') for img in aerial_imgs]\n",
    "road_gray = [cv2.cvtColor(real_img, cv2.COLOR_BGR2GRAY) for real_img in road_n]\n",
    "img_helper.plot_multy(road_gray, '../Gray Scale \\nRoadmap Images', nx, ny, aerial_titles)"
   ]
  },
  {
   "cell_type": "code",
   "execution_count": null,
   "metadata": {},
   "outputs": [],
   "source": [
    "\n",
    "road_eq = [cv2.equalizeHist(img) for img in road_gray]\n",
    "img_helper.plot_multy(road_eq, '../Equalized Gray Scale \\nRoadmap Images', nx, ny, aerial_titles)"
   ]
  },
  {
   "cell_type": "code",
   "execution_count": null,
   "metadata": {},
   "outputs": [],
   "source": [
    "# equalize each color channel\n",
    "eq_color = [cv2.merge([cv2.equalizeHist(channel) for channel in cv2.split(img)]) for img in road_n]\n",
    "img_helper.plot_multy(eq_color, '../Equalized Color \\nRoadmap Images', nx, ny, aerial_titles)"
   ]
  },
  {
   "cell_type": "code",
   "execution_count": null,
   "metadata": {},
   "outputs": [],
   "source": []
  },
  {
   "cell_type": "code",
   "execution_count": null,
   "metadata": {},
   "outputs": [],
   "source": []
  }
 ],
 "metadata": {
  "kernelspec": {
   "display_name": "skyai-sim",
   "language": "python",
   "name": "python3"
  },
  "language_info": {
   "codemirror_mode": {
    "name": "ipython",
    "version": 3
   },
   "file_extension": ".py",
   "mimetype": "text/x-python",
   "name": "python",
   "nbconvert_exporter": "python",
   "pygments_lexer": "ipython3",
   "version": "3.10.14"
  }
 },
 "nbformat": 4,
 "nbformat_minor": 2
}
